{
 "cells": [
  {
   "cell_type": "code",
   "execution_count": 367,
   "metadata": {
    "collapsed": true
   },
   "outputs": [],
   "source": [
    "import pandas as pd\n",
    "import numpy as np\n",
    "import matplotlib.pyplot as plt\n",
    "\n",
    "df = pd.read_csv(\"C:\\\\Users\\\\Asus\\\\Desktop\\debt_euro.csv\")"
   ]
  },
  {
   "cell_type": "code",
   "execution_count": null,
   "metadata": {
    "collapsed": true
   },
   "outputs": [],
   "source": [
    "# Annual value matrix\n",
    "\n",
    "years = np.sort(df['year'].unique())\n",
    "firms = np.sort(df['companyid'].unique())\n",
    "debt_types = np.sort(df['descriptiontext'].unique())\n",
    "value_matrices = []\n",
    "\n",
    "for year in years:\n",
    "    value_matrix = pd.DataFrame(np.zeros((len(firms), len(debt_types))), index=firms, columns=debt_types)\n",
    "    total = []\n",
    "    \n",
    "    for firm in firms:\n",
    "        \n",
    "        for debt_type in debt_types: \n",
    "            \n",
    "            value = sum(df.loc[(df['companyid'] == firm) & (df['year'] == year) & (df['descriptiontext'] == debt_type)]['dataitemvalue'])\n",
    "            \n",
    "            if value > 0:\n",
    "                value_matrix.loc[firm, debt_type] = value \n",
    "            else:\n",
    "                value_matrix.loc[firm, debt_type] = 0\n",
    "                \n",
    "        total_debt = np.sum(value_matrix.loc[firm, :])\n",
    "        total.append(total_debt)\n",
    "    \n",
    "    value_matrix['Total debt'] = pd.Series(total, index=value_matrix.index)\n",
    "    value_matrices.append(value_matrix)\n",
    "    \n",
    "annual_value_matrix = dict(zip(years, value_matrices))"
   ]
  },
  {
   "cell_type": "code",
   "execution_count": null,
   "metadata": {
    "collapsed": true
   },
   "outputs": [],
   "source": [
    "annual_value_matrix[2001]"
   ]
  },
  {
   "cell_type": "code",
   "execution_count": null,
   "metadata": {
    "collapsed": true
   },
   "outputs": [],
   "source": [
    "# Annual proportions matrix\n",
    "\n",
    "prop_matrices = []\n",
    "\n",
    "for value_matrix in value_matrices:\n",
    "    prop_matrix = value_matrix\n",
    "    for firm in firms:\n",
    "        if value_matrix.loc[firm, 'Total debt'] > 0:\n",
    "            prop_matrix.loc[firm] = value_matrix.loc[firm] / value_matrix.loc[firm, 'Total debt']\n",
    "        else:\n",
    "            prop_matrix.loc[firm] = 0\n",
    "    prop_matrices.append(prop_matrix)\n",
    "        \n",
    "annual_prop_matrix = dict(zip(years, prop_matrices))"
   ]
  },
  {
   "cell_type": "code",
   "execution_count": null,
   "metadata": {
    "collapsed": true
   },
   "outputs": [],
   "source": [
    "annual_prop_matrix[2001].loc[:,'Capital leases':'Capital leases']"
   ]
  },
  {
   "cell_type": "code",
   "execution_count": null,
   "metadata": {
    "collapsed": true
   },
   "outputs": [],
   "source": [
    "# Vector of average proportions\n",
    "\n",
    "avg_proportion_series = []\n",
    "\n",
    "for year in years:\n",
    "    proportion = annual_prop_matrix[year]\n",
    "    proportion = proportion.loc[proportion['Total debt'] > 0]\n",
    "    avg = pd.Series([proportion.loc[:, debt_type].mean() for debt_type in debt_types], index=debt_types)\n",
    "    avg_proportion_series.append(avg)\n",
    "    \n",
    "avg_proportion = dict(zip(years, avg_proportion_series))"
   ]
  },
  {
   "cell_type": "code",
   "execution_count": null,
   "metadata": {
    "collapsed": true,
    "scrolled": false
   },
   "outputs": [],
   "source": [
    "# Histogram of proportions by year\n",
    "\n",
    "i = 1\n",
    "for year in years:\n",
    "    plt.figure(i, figsize=(40, 10))\n",
    "    plt.bar(debt_types, avg_proportion[year], fill=False, ecolor='black', hatch='/')\n",
    "    plt.ylabel('% total debt', fontsize=20)\n",
    "    plt.title('Average capital structure for year {0}'.format(year), fontsize=20)\n",
    "    i += 1\n",
    "    plt.show()"
   ]
  }
 ],
 "metadata": {
  "kernelspec": {
   "display_name": "Python 3",
   "language": "python",
   "name": "python3"
  },
  "language_info": {
   "codemirror_mode": {
    "name": "ipython",
    "version": 3
   },
   "file_extension": ".py",
   "mimetype": "text/x-python",
   "name": "python",
   "nbconvert_exporter": "python",
   "pygments_lexer": "ipython3",
   "version": "3.6.3"
  }
 },
 "nbformat": 4,
 "nbformat_minor": 2
}
